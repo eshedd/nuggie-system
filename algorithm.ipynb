{
 "cells": [
  {
   "cell_type": "code",
   "execution_count": 1,
   "id": "4a36f491",
   "metadata": {},
   "outputs": [],
   "source": [
    "import csv"
   ]
  },
  {
   "cell_type": "code",
   "execution_count": 6,
   "id": "f0f44a49",
   "metadata": {},
   "outputs": [
    {
     "name": "stdout",
     "output_type": "stream",
     "text": [
      "['', '', '', '', '', '', '', '', '', '', '', '', '', '', '', '', '', '']\n",
      "[['Ethan', '8', 'Yarden', '-2', 'Rohan', '19', '', 'Weekly', '', '', '', 'Bi-Weekly', '', '', '', 'Monthly', '', ''], ['Windowsills', '11', 'Vacuum', '6', 'Coffee table', '21', '', 'Wipe coffee table (2)', '1', '2', '', 'Clean Toaster (3)', '2', '3', '', 'Wipe windows/windowsills (3)', '4', '3'], ['Kitchen counter', '15', 'Toilet', '12', 'Kitchen sink', '23', '', 'Kitchen Sink (2)', '1', '2', '', 'Wipe/Scrub Toilet/Bowl (6)', '2', '6', '', 'Wipe couch (strip cushions) (3)', '4', '3'], ['Stovetop', '18', 'Shower', '17', 'Bathroom sink', '25', '', 'Wipe Bathroom Sink (2)', '1', '2', '', '', '', '', '', 'Wipe fridge inside/outside (5)', '4', '5'], ['', '', '', '', '', '', '', 'Wipe stovetop (3)', '1', '3', '', '', '', '', '', '', '', ''], ['', '', '', '', '', '', '', 'Kitchen counter (4)', '1', '4', '', '', '', '', '', '', '', ''], ['', '', '', '', '', '', '', 'Wipe Shower (5)', '1', '5', '', '', '', '', '', '', '', ''], ['', '', '', '', '', '', '', 'Mop Floors (6)', '1', '6', '', '', '', '', '', '', '', ''], ['', '', '', '', '', '', '', 'Vacuum Floors (8)', '1', '8', '', '', '', '', '', '', '', ''], ['', '', '', '', '', '', '', '', '', '', '', '', '', '', '', '', '', ''], ['', '', '', '', '', '', '', '', '', '', '', '', '', '', '', '', '', ''], ['', '', '', '', '', '', '', 'Wipe coffee table (2)', '1', '2', '', '', '', '', '', '', '', ''], ['', '', '', '', '', '', '', 'Kitchen Sink (2)', '1', '2', '', '', '', '', '', '', '', ''], ['', '', '', '', '', '', '', 'Wipe Bathroom Sink (2)', '1', '2', '', '', '', '', '', '', '', ''], ['', '', '', '', '', '', '', 'Wipe stovetop (3)', '1', '3', '', '', '', '', '', '', '', ''], ['', '', '', '', '', '', '', 'Wipe windows/windowsills (3)', '4', '3', '', '', '', '', '', '', '', ''], ['', '', '', '', '', '', '', 'Kitchen counter (4)', '1', '4', '', '', '', '', '', '', '', ''], ['', '', '', '', '', '', '', 'Wipe Shower (5)', '1', '5', '', '', '', '', '', '', '', ''], ['', '', '', '', '', '', '', 'Wipe/Scrub Toilet/Bowl (6)', '2', '6', '', '', '', '', '', '', '', ''], ['', '', '', '', '', '', '', 'Vacuum Floors (8)', '1', '8', '', '', '', '', '', '', '', '']]\n"
     ]
    }
   ],
   "source": [
    "rows = []\n",
    "with open('data/assignment.csv', 'r') as file:\n",
    "    csvreader = csv.reader(file)\n",
    "    header = next(csvreader)\n",
    "    for row in csvreader:\n",
    "        rows.append(row)\n",
    "print(header)\n",
    "print(rows)"
   ]
  },
  {
   "cell_type": "code",
   "execution_count": null,
   "id": "ec0e1a2c",
   "metadata": {},
   "outputs": [],
   "source": []
  }
 ],
 "metadata": {
  "kernelspec": {
   "display_name": "Python 3 (ipykernel)",
   "language": "python",
   "name": "python3"
  },
  "language_info": {
   "codemirror_mode": {
    "name": "ipython",
    "version": 3
   },
   "file_extension": ".py",
   "mimetype": "text/x-python",
   "name": "python",
   "nbconvert_exporter": "python",
   "pygments_lexer": "ipython3",
   "version": "3.10.0"
  }
 },
 "nbformat": 4,
 "nbformat_minor": 5
}
